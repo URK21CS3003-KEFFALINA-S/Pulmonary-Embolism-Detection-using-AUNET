{
  "nbformat": 4,
  "nbformat_minor": 0,
  "metadata": {
    "colab": {
      "provenance": []
    },
    "kernelspec": {
      "name": "python3",
      "display_name": "Python 3"
    },
    "language_info": {
      "name": "python"
    }
  },
  "cells": [
    {
      "cell_type": "code",
      "execution_count": null,
      "metadata": {
        "id": "HEZXayJpT2rp"
      },
      "outputs": [],
      "source": [
        "from google.colab import drive\n",
        "drive.mount('/content/drive')"
      ]
    },
    {
      "cell_type": "code",
      "source": [
        "import os\n",
        "import numpy as np\n",
        "from PIL import Image\n",
        "from sklearn.model_selection import train_test_split\n",
        "\n",
        "image_path = \"/content/drive/MyDrive/PROJECT/Processed_CT\"\n",
        "mask_path = \"/content/drive/MyDrive/PROJECT/Processed_Masks\"\n",
        "\n",
        "target_size = (256, 256)\n",
      ],
      "metadata": {
        "id": "M5Ziq4bIUuyH"
      },
      "execution_count": null,
      "outputs": []
    },
    {
      "cell_type": "code",
      "source": [
        "Load and preprocess images and masks\n",
        "image_files = sorted([os.path.join(image_path, f) for f in os.listdir(image_path) if f.endswith('.png') or f.endswith('.jpg')])\n",
        "mask_files = sorted([os.path.join(mask_path, f) for f in os.listdir(mask_path) if f.endswith('.png') or f.endswith('.jpg')])\n",
        "\n",
        "images = []\n",
        "masks = []\n",
        "\n",
        "for img_path, mask_path in zip(image_files, mask_files):\n",
        "    # Load image and mask\n",
        "    img = Image.open(img_path).convert('L')  # 'L' means grayscale\n",
        "    mask = Image.open(mask_path).convert('L')\n",
        "\n",
        "    # Resize\n",
        "    img = img.resize(target_size)\n",
        "    mask = mask.resize(target_size)\n",
        "\n",
        "    # Convert to numpy and normalize\n",
        "    img = np.array(img) / 255.0   # Normalize image pixels between 0 and 1\n",
        "    mask = np.array(mask) / 255.0 # Normalize mask pixels between 0 and 1\n",
        "\n",
        "    # (Optional) Threshold the mask to make sure it's binary (0 or 1)\n",
        "    mask = (mask > 0.5).astype(np.float32)\n",
        "\n",
        "    images.append(img)\n",
        "    masks.append(mask)"
      ],
      "metadata": {
        "id": "saHHZsp3U2Wy"
      },
      "execution_count": null,
      "outputs": []
    },
    {
      "cell_type": "code",
      "source": [
        "# Convert lists to numpy arrays\n",
        "images = np.array(images)\n",
        "masks = np.array(masks)\n",
        "\n",
        "# (Optional) Add a channel dimension if needed (for CNN input)\n",
        "images = np.expand_dims(images, axis=-1)  # Shape: (num_samples, 256, 256, 1)\n",
        "masks = np.expand_dims(masks, axis=-1)    # Shape: (num_samples, 256, 256, 1)"
      ],
      "metadata": {
        "id": "zWZs1ssJVB9l"
      },
      "execution_count": null,
      "outputs": []
    },
    {
      "cell_type": "code",
      "source": [
        "# Split into train and val\n",
        "X_train, X_val, y_train, y_val = train_test_split(\n",
        "    images, masks, test_size=0.2, random_state=42\n",
        ")\n"
      ],
      "metadata": {
        "id": "K05oDRlOT54i"
      },
      "execution_count": null,
      "outputs": []
    },
    {
      "cell_type": "code",
      "source": [
        "np.save('/content/drive/MyDrive/PROJECT/X_train1.npy', X_train)\n",
        "np.save('/content/drive/MyDrive/PROJECT/y_train1.npy', y_train)\n",
        "np.save('/content/drive/MyDrive/PROJECT/X_val1.npy', X_val)\n",
        "np.save('/content/drive/MyDrive/PROJECT/y_val1.npy', y_val)\n"
      ],
      "metadata": {
        "id": "nDVbi-ogT577"
      },
      "execution_count": null,
      "outputs": []
    }
  ]
}
